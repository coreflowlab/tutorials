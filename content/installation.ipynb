{
  "metadata": {
    "kernelspec": {
      "name": "python",
      "display_name": "Python (Pyodide)",
      "language": "python"
    },
    "language_info": {
      "codemirror_mode": {
        "name": "python",
        "version": 3
      },
      "file_extension": ".py",
      "mimetype": "text/x-python",
      "name": "python",
      "nbconvert_exporter": "python",
      "pygments_lexer": "ipython3",
      "version": "3.8"
    }
  },
  "nbformat_minor": 4,
  "nbformat": 4,
  "cells": [
    {
      "cell_type": "code",
      "source": "import micropip\nawait micropip.install('coreflow')\nawait micropip.install('nbformat==5.1.2')",
      "metadata": {
        "trusted": true
      },
      "outputs": [],
      "execution_count": 3
    },
    {
      "cell_type": "code",
      "source": "package_list = micropip.list()\nprint(package_list)",
      "metadata": {
        "trusted": true
      },
      "outputs": [
        {
          "name": "stdout",
          "text": "Name               | Version   | Source\n------------------ | --------- | --------------------------------------------------------------------------------------------------------------------------------------\npackaging          | 23.1      | pyodide\nmicropip           | 0.5.0     | pyodide\npiplite            | 0.2.1     | https://opencources.github.io/coreflow-lab/extensions/@jupyterlite/pyodide-kernel-extension/static/pypi/piplite-0.2.1-py3-none-any.whl\nipykernel          | 6.9.2     | pypi\ntraitlets          | 5.14.1    | pypi\ncomm               | 0.2.1     | pypi\npyodide-kernel     | 0.2.1     | pypi\nmatplotlib-inline  | 0.1.6     | pypi\nwcwidth            | 0.2.13    | pypi\nexecuting          | 2.0.1     | pypi\npure-eval          | 0.2.2     | pypi\nprompt-toolkit     | 3.0.43    | pypi\nPygments           | 2.16.1    | pyodide\nparso              | 0.8.3     | pyodide\njedi               | 0.19.0    | pyodide\ndecorator          | 5.1.1     | pyodide\nsix                | 1.16.0    | pyodide\nptyprocess         | 0.7.0     | pypi\nasttokens          | 2.4.1     | pypi\npexpect            | 4.9.0     | pypi\nstack-data         | 0.6.3     | pypi\nipython            | 8.21.0    | pypi\nseaborn            | 0.13.2    | pypi\ntenacity           | 8.2.3     | pypi\net-xmlfile         | 1.1.0     | pypi\nplotly             | 5.18.0    | pypi\nnumpy              | 1.25.2    | pyodide\npython-dateutil    | 2.8.2     | pyodide\npytz               | 2023.3    | pyodide\npyparsing          | 3.1.1     | pyodide\ncertifi            | 2023.7.22 | pyodide\nidna               | 3.4       | pyodide\nmatplotlib-pyodide | 0.2.0     | pyodide\nkiwisolver         | 1.4.4     | pyodide\ncycler             | 0.11.0    | pyodide\nMarkupSafe         | 2.1.3     | pyodide\nxyzservices        | 2023.7.0  | pyodide\ntyping_extensions  | 4.7.1     | pyodide\nPyYAML             | 6.0.1     | pyodide\nfonttools          | 4.42.1    | pyodide\nPillow             | 10.0.0    | pyodide\nopenpyxl           | 3.1.2     | pypi\nurllib3            | 2.2.0     | pypi\ncharset-normalizer | 3.3.2     | pypi\nrequests           | 2.31.0    | pypi\ndocker             | 7.0.0     | pypi\ncoreflow           | 0.0.1a0   | pypi\nJinja2             | 3.1.2     | pyodide\npandas             | 1.5.3     | pyodide\nmatplotlib         | 3.5.2     | pyodide\nscipy              | 1.11.2    | pyodide\nbokeh              | 3.2.2     | pyodide\nipython-genutils   | 0.2.0     | pypi\nplatformdirs       | 4.2.0     | pypi\nattrs              | 23.1.0    | pyodide\npyrsistent         | 0.19.3    | pyodide\njupyter_core       | 5.7.1     | pypi\nnbformat           | 5.1.2     | pypi\njsonschema         | 4.17.3    | pyodide\nopenssl            | 1.1.1n    | pyodide\nssl                | 1.0.0     | pyodide\nsqlite3            | 1.0.0     | pyodide\ndistutils          | 1.0.0     | pyodide\nopenblas           | 0.3.23    | pyodide\n",
          "output_type": "stream"
        }
      ],
      "execution_count": 4
    },
    {
      "cell_type": "code",
      "source": "",
      "metadata": {
        "trusted": true
      },
      "outputs": [],
      "execution_count": null
    }
  ]
}